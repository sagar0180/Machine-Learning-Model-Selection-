{
 "cells": [
  {
   "cell_type": "markdown",
   "metadata": {
    "colab_type": "text",
    "id": "LeamvpPVXuS_"
   },
   "source": [
    "# Random Forest Regression"
   ]
  },
  {
   "cell_type": "markdown",
   "metadata": {
    "colab_type": "text",
    "id": "O2wvZ7SKXzVC"
   },
   "source": [
    "## Importing the libraries"
   ]
  },
  {
   "cell_type": "code",
   "execution_count": 1,
   "metadata": {
    "colab": {},
    "colab_type": "code",
    "id": "PVmESEFZX4Ig"
   },
   "outputs": [],
   "source": [
    "import numpy as np\n",
    "import matplotlib.pyplot as plt\n",
    "import pandas as pd"
   ]
  },
  {
   "cell_type": "markdown",
   "metadata": {
    "colab_type": "text",
    "id": "zgbK_F8-X7em"
   },
   "source": [
    "## Importing the dataset"
   ]
  },
  {
   "cell_type": "code",
   "execution_count": 2,
   "metadata": {
    "colab": {},
    "colab_type": "code",
    "id": "adBE4tjQX_Bh"
   },
   "outputs": [],
   "source": [
    "dataset = pd.read_csv('C:/Users/Data.csv')\n",
    "X = dataset.iloc[:, :-1].values\n",
    "y = dataset.iloc[:, -1].values"
   ]
  },
  {
   "cell_type": "markdown",
   "metadata": {
    "colab_type": "text",
    "id": "ptNjcy7bOBlD"
   },
   "source": [
    "## Splitting the dataset into the Training set and Test set"
   ]
  },
  {
   "cell_type": "code",
   "execution_count": 3,
   "metadata": {
    "colab": {},
    "colab_type": "code",
    "id": "C7NdofoCOFQF"
   },
   "outputs": [],
   "source": [
    "from sklearn.model_selection import train_test_split\n",
    "X_train, X_test, y_train, y_test = train_test_split(X, y, test_size = 0.2, random_state = 0)"
   ]
  },
  {
   "cell_type": "markdown",
   "metadata": {
    "colab_type": "text",
    "id": "v4S2fyIBYDcu"
   },
   "source": [
    "## Training the Random Forest Regression model on the whole dataset"
   ]
  },
  {
   "cell_type": "code",
   "execution_count": 4,
   "metadata": {
    "colab": {},
    "colab_type": "code",
    "id": "o8dOCoJ1YKMc"
   },
   "outputs": [
    {
     "data": {
      "text/plain": [
       "RandomForestRegressor(n_estimators=10, random_state=0)"
      ]
     },
     "execution_count": 4,
     "metadata": {},
     "output_type": "execute_result"
    }
   ],
   "source": [
    "from sklearn.ensemble import RandomForestRegressor\n",
    "regressor = RandomForestRegressor(n_estimators = 10, random_state = 0)\n",
    "regressor.fit(X_train, y_train)"
   ]
  },
  {
   "cell_type": "markdown",
   "metadata": {
    "colab_type": "text",
    "id": "DM_jh0frOPKE"
   },
   "source": [
    "## Predicting the Test set results"
   ]
  },
  {
   "cell_type": "code",
   "execution_count": 5,
   "metadata": {
    "colab": {},
    "colab_type": "code",
    "id": "JGa9ZfM4OTNw"
   },
   "outputs": [
    {
     "name": "stdout",
     "output_type": "stream",
     "text": [
      "[[2.  2. ]\n",
      " [2.  2. ]\n",
      " [4.  4. ]\n",
      " [4.  4. ]\n",
      " [2.  2. ]\n",
      " [2.  2. ]\n",
      " [2.4 2. ]\n",
      " [3.8 4. ]\n",
      " [2.  2. ]\n",
      " [2.  2. ]\n",
      " [4.  4. ]\n",
      " [2.  2. ]\n",
      " [4.  4. ]\n",
      " [2.  2. ]\n",
      " [2.  2. ]\n",
      " [3.4 2. ]\n",
      " [4.  4. ]\n",
      " [4.  4. ]\n",
      " [3.8 4. ]\n",
      " [2.  2. ]\n",
      " [2.  2. ]\n",
      " [2.  2. ]\n",
      " [3.2 4. ]\n",
      " [2.  2. ]\n",
      " [4.  4. ]\n",
      " [4.  4. ]\n",
      " [2.4 2. ]\n",
      " [2.2 2. ]\n",
      " [2.  2. ]\n",
      " [4.  4. ]\n",
      " [2.  2. ]\n",
      " [4.  4. ]\n",
      " [4.  4. ]\n",
      " [2.  2. ]\n",
      " [2.  2. ]\n",
      " [2.  2. ]\n",
      " [4.  4. ]\n",
      " [4.  4. ]\n",
      " [2.  2. ]\n",
      " [3.4 4. ]\n",
      " [2.  2. ]\n",
      " [2.  2. ]\n",
      " [2.  2. ]\n",
      " [2.  2. ]\n",
      " [2.  2. ]\n",
      " [2.  2. ]\n",
      " [2.  2. ]\n",
      " [4.  4. ]\n",
      " [2.  2. ]\n",
      " [2.  2. ]\n",
      " [4.  4. ]\n",
      " [2.  2. ]\n",
      " [4.  4. ]\n",
      " [2.  2. ]\n",
      " [2.  2. ]\n",
      " [2.  2. ]\n",
      " [3.6 4. ]\n",
      " [3.8 2. ]\n",
      " [2.  2. ]\n",
      " [3.6 4. ]\n",
      " [2.  2. ]\n",
      " [2.  2. ]\n",
      " [2.  2. ]\n",
      " [2.  2. ]\n",
      " [2.  2. ]\n",
      " [2.  2. ]\n",
      " [2.  2. ]\n",
      " [2.  2. ]\n",
      " [3.8 4. ]\n",
      " [3.2 4. ]\n",
      " [2.  2. ]\n",
      " [2.  2. ]\n",
      " [2.  2. ]\n",
      " [2.  2. ]\n",
      " [2.  2. ]\n",
      " [2.  2. ]\n",
      " [4.  4. ]\n",
      " [2.  2. ]\n",
      " [2.  2. ]\n",
      " [2.  2. ]\n",
      " [4.  4. ]\n",
      " [2.  2. ]\n",
      " [4.  4. ]\n",
      " [2.  2. ]\n",
      " [2.  2. ]\n",
      " [4.  4. ]\n",
      " [2.  2. ]\n",
      " [4.  2. ]\n",
      " [3.8 4. ]\n",
      " [2.6 2. ]\n",
      " [4.  4. ]\n",
      " [2.  2. ]\n",
      " [3.6 4. ]\n",
      " [3.2 4. ]\n",
      " [3.4 4. ]\n",
      " [3.2 2. ]\n",
      " [4.  4. ]\n",
      " [4.  4. ]\n",
      " [3.4 4. ]\n",
      " [2.  2. ]\n",
      " [2.  2. ]\n",
      " [2.  2. ]\n",
      " [4.  4. ]\n",
      " [4.  4. ]\n",
      " [2.  2. ]\n",
      " [2.  2. ]\n",
      " [4.  4. ]\n",
      " [2.6 4. ]\n",
      " [2.  2. ]\n",
      " [2.  2. ]\n",
      " [3.6 4. ]\n",
      " [2.  2. ]\n",
      " [2.  2. ]\n",
      " [3.8 4. ]\n",
      " [2.  2. ]\n",
      " [2.4 2. ]\n",
      " [2.  2. ]\n",
      " [3.  4. ]\n",
      " [2.  2. ]\n",
      " [2.  2. ]\n",
      " [2.  2. ]\n",
      " [3.8 4. ]\n",
      " [2.  2. ]\n",
      " [2.  2. ]\n",
      " [4.  4. ]\n",
      " [3.8 4. ]\n",
      " [2.  2. ]\n",
      " [3.2 4. ]\n",
      " [2.  2. ]\n",
      " [4.  4. ]\n",
      " [2.8 2. ]\n",
      " [2.  2. ]\n",
      " [4.  4. ]\n",
      " [2.  2. ]\n",
      " [2.  2. ]\n",
      " [3.8 4. ]\n",
      " [2.  2. ]]\n"
     ]
    }
   ],
   "source": [
    "y_pred = regressor.predict(X_test)\n",
    "np.set_printoptions(precision=2)\n",
    "print(np.concatenate((y_pred.reshape(len(y_pred),1), y_test.reshape(len(y_test),1)),1))"
   ]
  },
  {
   "cell_type": "markdown",
   "metadata": {
    "colab_type": "text",
    "id": "Cd8VZM5POWXN"
   },
   "source": [
    "## Evaluating the Model Performance"
   ]
  },
  {
   "cell_type": "code",
   "execution_count": 6,
   "metadata": {
    "colab": {},
    "colab_type": "code",
    "id": "a7y1rXlfOZJo"
   },
   "outputs": [
    {
     "data": {
      "text/plain": [
       "0.8447333333333333"
      ]
     },
     "execution_count": 6,
     "metadata": {},
     "output_type": "execute_result"
    }
   ],
   "source": [
    "from sklearn.metrics import r2_score\n",
    "r2_score(y_test, y_pred)"
   ]
  }
 ],
 "metadata": {
  "colab": {
   "collapsed_sections": [],
   "name": "random_forest_regression.ipynb",
   "provenance": [],
   "toc_visible": true
  },
  "kernelspec": {
   "display_name": "Python 3",
   "language": "python",
   "name": "python3"
  },
  "language_info": {
   "codemirror_mode": {
    "name": "ipython",
    "version": 3
   },
   "file_extension": ".py",
   "mimetype": "text/x-python",
   "name": "python",
   "nbconvert_exporter": "python",
   "pygments_lexer": "ipython3",
   "version": "3.8.5"
  }
 },
 "nbformat": 4,
 "nbformat_minor": 1
}
