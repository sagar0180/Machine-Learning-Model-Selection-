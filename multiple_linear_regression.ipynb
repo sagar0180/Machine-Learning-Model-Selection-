{
 "cells": [
  {
   "cell_type": "markdown",
   "metadata": {
    "colab_type": "text",
    "id": "CazISR8X_HUG"
   },
   "source": [
    "# Multiple Linear Regression"
   ]
  },
  {
   "cell_type": "markdown",
   "metadata": {
    "colab_type": "text",
    "id": "pOyqYHTk_Q57"
   },
   "source": [
    "## Importing the libraries"
   ]
  },
  {
   "cell_type": "code",
   "execution_count": 1,
   "metadata": {
    "colab": {},
    "colab_type": "code",
    "id": "T_YHJjnD_Tja"
   },
   "outputs": [],
   "source": [
    "import numpy as np\n",
    "import matplotlib.pyplot as plt\n",
    "import pandas as pd"
   ]
  },
  {
   "cell_type": "markdown",
   "metadata": {
    "colab_type": "text",
    "id": "vgC61-ah_WIz"
   },
   "source": [
    "## Importing the dataset"
   ]
  },
  {
   "cell_type": "code",
   "execution_count": 2,
   "metadata": {
    "colab": {},
    "colab_type": "code",
    "id": "UrxyEKGn_ez7"
   },
   "outputs": [],
   "source": [
    "dataset = pd.read_csv('C:/Users/Data.csv')\n",
    "X = dataset.iloc[:, :-1].values\n",
    "y = dataset.iloc[:, -1].values"
   ]
  },
  {
   "cell_type": "markdown",
   "metadata": {
    "colab_type": "text",
    "id": "WemVnqgeA70k"
   },
   "source": [
    "## Splitting the dataset into the Training set and Test set"
   ]
  },
  {
   "cell_type": "code",
   "execution_count": 3,
   "metadata": {
    "colab": {},
    "colab_type": "code",
    "id": "Kb_v_ae-A-20"
   },
   "outputs": [],
   "source": [
    "from sklearn.model_selection import train_test_split\n",
    "X_train, X_test, y_train, y_test = train_test_split(X, y, test_size = 0.2, random_state = 0)"
   ]
  },
  {
   "cell_type": "markdown",
   "metadata": {
    "colab_type": "text",
    "id": "k-McZVsQBINc"
   },
   "source": [
    "## Training the Multiple Linear Regression model on the Training set"
   ]
  },
  {
   "cell_type": "code",
   "execution_count": 4,
   "metadata": {
    "colab": {},
    "colab_type": "code",
    "id": "ywPjx0L1BMiD"
   },
   "outputs": [
    {
     "data": {
      "text/plain": [
       "LinearRegression()"
      ]
     },
     "execution_count": 4,
     "metadata": {},
     "output_type": "execute_result"
    }
   ],
   "source": [
    "from sklearn.linear_model import LinearRegression\n",
    "regressor = LinearRegression()\n",
    "regressor.fit(X_train, y_train)"
   ]
  },
  {
   "cell_type": "markdown",
   "metadata": {
    "colab_type": "text",
    "id": "xNkXL1YQBiBT"
   },
   "source": [
    "## Predicting the Test set results"
   ]
  },
  {
   "cell_type": "code",
   "execution_count": 5,
   "metadata": {
    "colab": {},
    "colab_type": "code",
    "id": "TQKmwvtdBkyb"
   },
   "outputs": [
    {
     "name": "stdout",
     "output_type": "stream",
     "text": [
      "[[2.25 2.  ]\n",
      " [2.03 2.  ]\n",
      " [3.52 4.  ]\n",
      " [3.7  4.  ]\n",
      " [1.89 2.  ]\n",
      " [2.09 2.  ]\n",
      " [2.26 2.  ]\n",
      " [3.94 4.  ]\n",
      " [2.07 2.  ]\n",
      " [1.94 2.  ]\n",
      " [4.   4.  ]\n",
      " [2.17 2.  ]\n",
      " [4.23 4.  ]\n",
      " [2.04 2.  ]\n",
      " [2.22 2.  ]\n",
      " [2.7  2.  ]\n",
      " [3.58 4.  ]\n",
      " [4.11 4.  ]\n",
      " [4.21 4.  ]\n",
      " [2.18 2.  ]\n",
      " [2.03 2.  ]\n",
      " [2.11 2.  ]\n",
      " [3.12 4.  ]\n",
      " [1.99 2.  ]\n",
      " [3.83 4.  ]\n",
      " [3.9  4.  ]\n",
      " [2.2  2.  ]\n",
      " [1.92 2.  ]\n",
      " [2.1  2.  ]\n",
      " [3.74 4.  ]\n",
      " [1.88 2.  ]\n",
      " [4.31 4.  ]\n",
      " [4.59 4.  ]\n",
      " [2.07 2.  ]\n",
      " [2.05 2.  ]\n",
      " [2.07 2.  ]\n",
      " [3.83 4.  ]\n",
      " [3.63 4.  ]\n",
      " [2.05 2.  ]\n",
      " [3.9  4.  ]\n",
      " [2.26 2.  ]\n",
      " [2.43 2.  ]\n",
      " [2.01 2.  ]\n",
      " [1.96 2.  ]\n",
      " [1.88 2.  ]\n",
      " [2.13 2.  ]\n",
      " [1.97 2.  ]\n",
      " [4.23 4.  ]\n",
      " [2.13 2.  ]\n",
      " [2.11 2.  ]\n",
      " [3.77 4.  ]\n",
      " [2.15 2.  ]\n",
      " [3.49 4.  ]\n",
      " [2.13 2.  ]\n",
      " [2.18 2.  ]\n",
      " [2.31 2.  ]\n",
      " [3.8  4.  ]\n",
      " [3.48 2.  ]\n",
      " [2.4  2.  ]\n",
      " [3.88 4.  ]\n",
      " [1.96 2.  ]\n",
      " [1.98 2.  ]\n",
      " [2.02 2.  ]\n",
      " [1.99 2.  ]\n",
      " [2.07 2.  ]\n",
      " [1.96 2.  ]\n",
      " [1.97 2.  ]\n",
      " [2.09 2.  ]\n",
      " [3.64 4.  ]\n",
      " [2.84 4.  ]\n",
      " [1.94 2.  ]\n",
      " [2.05 2.  ]\n",
      " [1.92 2.  ]\n",
      " [2.07 2.  ]\n",
      " [2.32 2.  ]\n",
      " [2.13 2.  ]\n",
      " [3.8  4.  ]\n",
      " [2.05 2.  ]\n",
      " [2.03 2.  ]\n",
      " [1.93 2.  ]\n",
      " [4.17 4.  ]\n",
      " [2.08 2.  ]\n",
      " [3.8  4.  ]\n",
      " [1.97 2.  ]\n",
      " [1.88 2.  ]\n",
      " [4.63 4.  ]\n",
      " [2.22 2.  ]\n",
      " [3.12 2.  ]\n",
      " [3.87 4.  ]\n",
      " [2.41 2.  ]\n",
      " [3.86 4.  ]\n",
      " [2.   2.  ]\n",
      " [3.5  4.  ]\n",
      " [2.75 4.  ]\n",
      " [2.77 4.  ]\n",
      " [2.94 2.  ]\n",
      " [3.73 4.  ]\n",
      " [4.11 4.  ]\n",
      " [2.72 4.  ]\n",
      " [2.18 2.  ]\n",
      " [2.2  2.  ]\n",
      " [1.98 2.  ]\n",
      " [4.19 4.  ]\n",
      " [3.99 4.  ]\n",
      " [2.13 2.  ]\n",
      " [2.11 2.  ]\n",
      " [3.99 4.  ]\n",
      " [2.89 4.  ]\n",
      " [2.   2.  ]\n",
      " [1.88 2.  ]\n",
      " [3.66 4.  ]\n",
      " [2.19 2.  ]\n",
      " [2.03 2.  ]\n",
      " [4.47 4.  ]\n",
      " [1.93 2.  ]\n",
      " [2.57 2.  ]\n",
      " [2.18 2.  ]\n",
      " [2.62 4.  ]\n",
      " [1.92 2.  ]\n",
      " [1.94 2.  ]\n",
      " [1.93 2.  ]\n",
      " [3.52 4.  ]\n",
      " [2.05 2.  ]\n",
      " [1.93 2.  ]\n",
      " [4.1  4.  ]\n",
      " [4.56 4.  ]\n",
      " [2.25 2.  ]\n",
      " [3.38 4.  ]\n",
      " [1.96 2.  ]\n",
      " [3.91 4.  ]\n",
      " [2.15 2.  ]\n",
      " [1.94 2.  ]\n",
      " [4.   4.  ]\n",
      " [1.94 2.  ]\n",
      " [2.1  2.  ]\n",
      " [4.2  4.  ]\n",
      " [2.01 2.  ]]\n"
     ]
    }
   ],
   "source": [
    "y_pred = regressor.predict(X_test)\n",
    "np.set_printoptions(precision=2)\n",
    "print(np.concatenate((y_pred.reshape(len(y_pred),1), y_test.reshape(len(y_test),1)),1))"
   ]
  },
  {
   "cell_type": "markdown",
   "metadata": {
    "colab_type": "text",
    "id": "50DZZy0UyhLi"
   },
   "source": [
    "## Evaluating the Model Performance"
   ]
  },
  {
   "cell_type": "code",
   "execution_count": 6,
   "metadata": {
    "colab": {},
    "colab_type": "code",
    "id": "xPagAOKDywV4"
   },
   "outputs": [
    {
     "data": {
      "text/plain": [
       "0.8354489501242135"
      ]
     },
     "execution_count": 6,
     "metadata": {},
     "output_type": "execute_result"
    }
   ],
   "source": [
    "from sklearn.metrics import r2_score\n",
    "r2_score(y_test, y_pred)"
   ]
  }
 ],
 "metadata": {
  "colab": {
   "collapsed_sections": [],
   "name": "multiple_linear_regression.ipynb",
   "provenance": [],
   "toc_visible": true
  },
  "kernelspec": {
   "display_name": "Python 3",
   "language": "python",
   "name": "python3"
  },
  "language_info": {
   "codemirror_mode": {
    "name": "ipython",
    "version": 3
   },
   "file_extension": ".py",
   "mimetype": "text/x-python",
   "name": "python",
   "nbconvert_exporter": "python",
   "pygments_lexer": "ipython3",
   "version": "3.8.5"
  }
 },
 "nbformat": 4,
 "nbformat_minor": 1
}
