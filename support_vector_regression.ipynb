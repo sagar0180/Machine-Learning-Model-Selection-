{
 "cells": [
  {
   "cell_type": "markdown",
   "metadata": {
    "colab_type": "text",
    "id": "m3PAEPRDRLA3"
   },
   "source": [
    "# Support Vector Regression (SVR)"
   ]
  },
  {
   "cell_type": "markdown",
   "metadata": {
    "colab_type": "text",
    "id": "0VCUAVIjRdzZ"
   },
   "source": [
    "## Importing the libraries"
   ]
  },
  {
   "cell_type": "code",
   "execution_count": 1,
   "metadata": {
    "colab": {},
    "colab_type": "code",
    "id": "56oRF-QfSDzC"
   },
   "outputs": [],
   "source": [
    "import numpy as np\n",
    "import matplotlib.pyplot as plt\n",
    "import pandas as pd"
   ]
  },
  {
   "cell_type": "markdown",
   "metadata": {
    "colab_type": "text",
    "id": "fXVXoFWtSF4_"
   },
   "source": [
    "## Importing the dataset"
   ]
  },
  {
   "cell_type": "code",
   "execution_count": 2,
   "metadata": {
    "colab": {},
    "colab_type": "code",
    "id": "xfoa8OSORfHQ"
   },
   "outputs": [],
   "source": [
    "dataset = pd.read_csv('C:/Users/Data.csv')\n",
    "X = dataset.iloc[:, :-1].values\n",
    "y = dataset.iloc[:, -1].values"
   ]
  },
  {
   "cell_type": "code",
   "execution_count": 3,
   "metadata": {
    "colab": {},
    "colab_type": "code",
    "id": "_8Ny1GfPiV3m"
   },
   "outputs": [],
   "source": [
    "y = y.reshape(len(y),1)"
   ]
  },
  {
   "cell_type": "markdown",
   "metadata": {
    "colab_type": "text",
    "id": "6Vk3nNlrCVCN"
   },
   "source": [
    "## Splitting the dataset into the Training set and Test set"
   ]
  },
  {
   "cell_type": "code",
   "execution_count": 4,
   "metadata": {
    "colab": {},
    "colab_type": "code",
    "id": "x_fXqrziCV3_"
   },
   "outputs": [],
   "source": [
    "from sklearn.model_selection import train_test_split\n",
    "X_train, X_test, y_train, y_test = train_test_split(X, y, test_size = 0.2, random_state = 0)"
   ]
  },
  {
   "cell_type": "markdown",
   "metadata": {
    "colab_type": "text",
    "id": "YS8FeLHYS-nI"
   },
   "source": [
    "## Feature Scaling"
   ]
  },
  {
   "cell_type": "code",
   "execution_count": 5,
   "metadata": {
    "colab": {},
    "colab_type": "code",
    "id": "PGeAlD1HTDI1"
   },
   "outputs": [],
   "source": [
    "from sklearn.preprocessing import StandardScaler\n",
    "sc_X = StandardScaler()\n",
    "sc_y = StandardScaler()\n",
    "X_train = sc_X.fit_transform(X_train)\n",
    "y_train = sc_y.fit_transform(y_train)"
   ]
  },
  {
   "cell_type": "markdown",
   "metadata": {
    "colab_type": "text",
    "id": "eiU6D2QFRjxY"
   },
   "source": [
    "## Training the SVR model on the Training set"
   ]
  },
  {
   "cell_type": "code",
   "execution_count": 6,
   "metadata": {
    "colab": {},
    "colab_type": "code",
    "id": "y6R4rt_GRz15"
   },
   "outputs": [
    {
     "name": "stderr",
     "output_type": "stream",
     "text": [
      "C:\\Users\\ASUS\\anaconda3\\lib\\site-packages\\sklearn\\utils\\validation.py:72: DataConversionWarning: A column-vector y was passed when a 1d array was expected. Please change the shape of y to (n_samples, ), for example using ravel().\n",
      "  return f(**kwargs)\n"
     ]
    },
    {
     "data": {
      "text/plain": [
       "SVR()"
      ]
     },
     "execution_count": 6,
     "metadata": {},
     "output_type": "execute_result"
    }
   ],
   "source": [
    "from sklearn.svm import SVR\n",
    "regressor = SVR(kernel = 'rbf')\n",
    "regressor.fit(X_train, y_train)"
   ]
  },
  {
   "cell_type": "markdown",
   "metadata": {
    "colab_type": "text",
    "id": "aPYA5W1pDBOE"
   },
   "source": [
    "## Predicting the Test set results"
   ]
  },
  {
   "cell_type": "code",
   "execution_count": 7,
   "metadata": {
    "colab": {},
    "colab_type": "code",
    "id": "vSqFVDYrDROW"
   },
   "outputs": [
    {
     "name": "stdout",
     "output_type": "stream",
     "text": [
      "[[2.1  2.  ]\n",
      " [1.91 2.  ]\n",
      " [3.97 4.  ]\n",
      " [3.98 4.  ]\n",
      " [2.01 2.  ]\n",
      " [1.94 2.  ]\n",
      " [1.97 2.  ]\n",
      " [4.05 4.  ]\n",
      " [2.11 2.  ]\n",
      " [2.04 2.  ]\n",
      " [4.09 4.  ]\n",
      " [1.94 2.  ]\n",
      " [3.94 4.  ]\n",
      " [1.9  2.  ]\n",
      " [2.08 2.  ]\n",
      " [3.27 2.  ]\n",
      " [4.1  4.  ]\n",
      " [3.92 4.  ]\n",
      " [3.96 4.  ]\n",
      " [1.96 2.  ]\n",
      " [1.92 2.  ]\n",
      " [1.89 2.  ]\n",
      " [3.64 4.  ]\n",
      " [1.96 2.  ]\n",
      " [4.24 4.  ]\n",
      " [4.1  4.  ]\n",
      " [1.98 2.  ]\n",
      " [2.   2.  ]\n",
      " [1.98 2.  ]\n",
      " [4.33 4.  ]\n",
      " [2.04 2.  ]\n",
      " [3.73 4.  ]\n",
      " [3.97 4.  ]\n",
      " [1.91 2.  ]\n",
      " [1.94 2.  ]\n",
      " [1.91 2.  ]\n",
      " [4.05 4.  ]\n",
      " [4.08 4.  ]\n",
      " [1.93 2.  ]\n",
      " [3.96 4.  ]\n",
      " [1.98 2.  ]\n",
      " [2.4  2.  ]\n",
      " [1.96 2.  ]\n",
      " [2.02 2.  ]\n",
      " [2.04 2.  ]\n",
      " [1.93 2.  ]\n",
      " [2.09 2.  ]\n",
      " [3.95 4.  ]\n",
      " [1.95 2.  ]\n",
      " [1.99 2.  ]\n",
      " [4.05 4.  ]\n",
      " [1.9  2.  ]\n",
      " [4.12 4.  ]\n",
      " [1.98 2.  ]\n",
      " [1.97 2.  ]\n",
      " [2.06 2.  ]\n",
      " [3.96 4.  ]\n",
      " [4.03 2.  ]\n",
      " [2.12 2.  ]\n",
      " [3.87 4.  ]\n",
      " [1.96 2.  ]\n",
      " [2.   2.  ]\n",
      " [1.93 2.  ]\n",
      " [1.93 2.  ]\n",
      " [1.91 2.  ]\n",
      " [1.96 2.  ]\n",
      " [1.94 2.  ]\n",
      " [1.96 2.  ]\n",
      " [4.1  4.  ]\n",
      " [3.55 4.  ]\n",
      " [2.   2.  ]\n",
      " [2.04 2.  ]\n",
      " [1.99 2.  ]\n",
      " [2.04 2.  ]\n",
      " [2.03 2.  ]\n",
      " [1.92 2.  ]\n",
      " [4.17 4.  ]\n",
      " [1.95 2.  ]\n",
      " [1.93 2.  ]\n",
      " [1.97 2.  ]\n",
      " [3.97 4.  ]\n",
      " [1.93 2.  ]\n",
      " [3.97 4.  ]\n",
      " [1.95 2.  ]\n",
      " [2.03 2.  ]\n",
      " [3.95 4.  ]\n",
      " [2.01 2.  ]\n",
      " [3.67 2.  ]\n",
      " [3.97 4.  ]\n",
      " [2.32 2.  ]\n",
      " [4.09 4.  ]\n",
      " [1.97 2.  ]\n",
      " [4.02 4.  ]\n",
      " [3.61 4.  ]\n",
      " [2.8  4.  ]\n",
      " [3.51 2.  ]\n",
      " [3.99 4.  ]\n",
      " [3.92 4.  ]\n",
      " [3.39 4.  ]\n",
      " [1.99 2.  ]\n",
      " [2.04 2.  ]\n",
      " [1.96 2.  ]\n",
      " [3.98 4.  ]\n",
      " [3.99 4.  ]\n",
      " [1.92 2.  ]\n",
      " [2.05 2.  ]\n",
      " [3.88 4.  ]\n",
      " [3.1  4.  ]\n",
      " [1.98 2.  ]\n",
      " [2.06 2.  ]\n",
      " [3.99 4.  ]\n",
      " [1.99 2.  ]\n",
      " [1.91 2.  ]\n",
      " [3.9  4.  ]\n",
      " [2.   2.  ]\n",
      " [2.8  2.  ]\n",
      " [2.   2.  ]\n",
      " [3.37 4.  ]\n",
      " [1.99 2.  ]\n",
      " [1.96 2.  ]\n",
      " [1.98 2.  ]\n",
      " [4.14 4.  ]\n",
      " [1.97 2.  ]\n",
      " [1.98 2.  ]\n",
      " [3.97 4.  ]\n",
      " [3.94 4.  ]\n",
      " [2.1  2.  ]\n",
      " [3.72 4.  ]\n",
      " [1.96 2.  ]\n",
      " [4.04 4.  ]\n",
      " [2.91 2.  ]\n",
      " [2.   2.  ]\n",
      " [4.11 4.  ]\n",
      " [1.97 2.  ]\n",
      " [1.99 2.  ]\n",
      " [3.84 4.  ]\n",
      " [1.92 2.  ]]\n"
     ]
    }
   ],
   "source": [
    "y_pred = sc_y.inverse_transform(regressor.predict(sc_X.transform(X_test)))\n",
    "np.set_printoptions(precision=2)\n",
    "print(np.concatenate((y_pred.reshape(len(y_pred),1), y_test.reshape(len(y_test),1)),1))"
   ]
  },
  {
   "cell_type": "markdown",
   "metadata": {
    "colab_type": "text",
    "id": "CMsYlps2DX1d"
   },
   "source": [
    "## Evaluating the Model Performance"
   ]
  },
  {
   "cell_type": "code",
   "execution_count": 8,
   "metadata": {
    "colab": {},
    "colab_type": "code",
    "id": "HxsRWlURDr6S"
   },
   "outputs": [
    {
     "data": {
      "text/plain": [
       "0.8671506597422487"
      ]
     },
     "execution_count": 8,
     "metadata": {},
     "output_type": "execute_result"
    }
   ],
   "source": [
    "from sklearn.metrics import r2_score\n",
    "r2_score(y_test, y_pred)"
   ]
  }
 ],
 "metadata": {
  "colab": {
   "collapsed_sections": [],
   "name": "support_vector_regression.ipynb",
   "provenance": [],
   "toc_visible": true
  },
  "kernelspec": {
   "display_name": "Python 3",
   "language": "python",
   "name": "python3"
  },
  "language_info": {
   "codemirror_mode": {
    "name": "ipython",
    "version": 3
   },
   "file_extension": ".py",
   "mimetype": "text/x-python",
   "name": "python",
   "nbconvert_exporter": "python",
   "pygments_lexer": "ipython3",
   "version": "3.8.5"
  }
 },
 "nbformat": 4,
 "nbformat_minor": 1
}
